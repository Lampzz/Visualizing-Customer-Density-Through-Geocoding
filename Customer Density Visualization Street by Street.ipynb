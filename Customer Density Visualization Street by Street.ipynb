{
 "cells": [
  {
   "cell_type": "code",
   "execution_count": 20,
   "metadata": {},
   "outputs": [],
   "source": [
    "import requests\n",
    "import pandas as pd"
   ]
  },
  {
   "cell_type": "code",
   "execution_count": null,
   "metadata": {},
   "outputs": [],
   "source": [
    "# Your Google Maps Geocoding API key\n",
    "API_KEY = ''\n",
    "\n",
    "# Function to geocode an address\n",
    "def geocode_address(address):\n",
    "    url = f'https://maps.googleapis.com/maps/api/geocode/json?address={address}&key={API_KEY}'\n",
    "    response = requests.get(url)\n",
    "    if response.status_code == 200:\n",
    "        results = response.json()\n",
    "        if results['status'] == 'OK':\n",
    "            lat = results['results'][0]['geometry']['location']['lat']\n",
    "            lng = results['results'][0]['geometry']['location']['lng']\n",
    "            return lat, lng\n",
    "        else:\n",
    "            print(f\"Error: {results['status']}\")\n",
    "            return None, None\n",
    "    else:\n",
    "        print(f\"HTTP Error: {response.status_code}\")\n",
    "        return None, None\n",
    "\n"
   ]
  },
  {
   "cell_type": "code",
   "execution_count": 23,
   "metadata": {},
   "outputs": [],
   "source": [
    "# Read addresses from CSV file\n",
    "input_file = '\\\\Users\\\\Mukuna\\\\Desktop\\\\Customer Addresses.csv'\n",
    "addresses_df = pd.read_csv(input_file)"
   ]
  },
  {
   "cell_type": "code",
   "execution_count": 27,
   "metadata": {},
   "outputs": [
    {
     "data": {
      "text/html": [
       "<div>\n",
       "<style scoped>\n",
       "    .dataframe tbody tr th:only-of-type {\n",
       "        vertical-align: middle;\n",
       "    }\n",
       "\n",
       "    .dataframe tbody tr th {\n",
       "        vertical-align: top;\n",
       "    }\n",
       "\n",
       "    .dataframe thead th {\n",
       "        text-align: right;\n",
       "    }\n",
       "</style>\n",
       "<table border=\"1\" class=\"dataframe\">\n",
       "  <thead>\n",
       "    <tr style=\"text-align: right;\">\n",
       "      <th></th>\n",
       "      <th>Customer Addresses</th>\n",
       "    </tr>\n",
       "  </thead>\n",
       "  <tbody>\n",
       "    <tr>\n",
       "      <th>0</th>\n",
       "      <td>443 E Vernon St, Los Angeles, CA 90045</td>\n",
       "    </tr>\n",
       "    <tr>\n",
       "      <th>1</th>\n",
       "      <td>246 E 30th St, Los Angeles, CA 90011</td>\n",
       "    </tr>\n",
       "    <tr>\n",
       "      <th>2</th>\n",
       "      <td>827 S Kenmore Ave, Los Angeles, CA 90005</td>\n",
       "    </tr>\n",
       "    <tr>\n",
       "      <th>3</th>\n",
       "      <td>132 1/2 E 29th St, Los Angeles, CA 90011</td>\n",
       "    </tr>\n",
       "    <tr>\n",
       "      <th>4</th>\n",
       "      <td>1821 S Soror St, Los Angeles, CA 90011</td>\n",
       "    </tr>\n",
       "  </tbody>\n",
       "</table>\n",
       "</div>"
      ],
      "text/plain": [
       "                         Customer Addresses\n",
       "0    443 E Vernon St, Los Angeles, CA 90045\n",
       "1      246 E 30th St, Los Angeles, CA 90011\n",
       "2  827 S Kenmore Ave, Los Angeles, CA 90005\n",
       "3  132 1/2 E 29th St, Los Angeles, CA 90011\n",
       "4    1821 S Soror St, Los Angeles, CA 90011"
      ]
     },
     "execution_count": 27,
     "metadata": {},
     "output_type": "execute_result"
    }
   ],
   "source": [
    "addresses_df.head()"
   ]
  },
  {
   "cell_type": "code",
   "execution_count": 24,
   "metadata": {},
   "outputs": [],
   "source": [
    "# Create a DataFrame to store results\n",
    "geocoded_data = []\n"
   ]
  },
  {
   "cell_type": "code",
   "execution_count": 33,
   "metadata": {},
   "outputs": [
    {
     "name": "stdout",
     "output_type": "stream",
     "text": [
      "Error: REQUEST_DENIED\n",
      "Error: REQUEST_DENIED\n",
      "Error: REQUEST_DENIED\n",
      "Error: REQUEST_DENIED\n",
      "Error: REQUEST_DENIED\n"
     ]
    }
   ],
   "source": [
    "\n",
    "# Geocode each address\n",
    "for index, row in addresses_df.iterrows():\n",
    "    address = row['Customer Addresses']\n",
    "    lat, lng = geocode_address(address)\n",
    "    geocoded_data.append({'Customer Addresses': address, 'Latitude': lat, 'Longitude': lng})\n"
   ]
  },
  {
   "cell_type": "code",
   "execution_count": 34,
   "metadata": {},
   "outputs": [
    {
     "name": "stdout",
     "output_type": "stream",
     "text": [
      "Geocoding complete. Results saved to geocoded_addresses.csv.\n"
     ]
    }
   ],
   "source": [
    "# Convert to DataFrame and save to CSV\n",
    "results_df = pd.DataFrame(geocoded_data)\n",
    "results_df.to_csv('geocoded_addresses.csv', index=False)\n",
    "print(\"Geocoding complete. Results saved to geocoded_addresses.csv.\")"
   ]
  }
 ],
 "metadata": {
  "kernelspec": {
   "display_name": "Python 3",
   "language": "python",
   "name": "python3"
  },
  "language_info": {
   "codemirror_mode": {
    "name": "ipython",
    "version": 3
   },
   "file_extension": ".py",
   "mimetype": "text/x-python",
   "name": "python",
   "nbconvert_exporter": "python",
   "pygments_lexer": "ipython3",
   "version": "3.12.3"
  }
 },
 "nbformat": 4,
 "nbformat_minor": 2
}
